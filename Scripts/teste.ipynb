{
 "cells": [
  {
   "cell_type": "code",
   "execution_count": 1,
   "metadata": {},
   "outputs": [],
   "source": [
    "import pandas as pd\n",
    "import csv\n",
    "\n",
    "pd.set_option(\"display.max_rows\", None)\n",
    "pd.set_option(\"display.max_columns\", None)\n",
    "pd.set_option('display.max_colwidth', None)\n"
   ]
  },
  {
   "cell_type": "code",
   "execution_count": 2,
   "metadata": {},
   "outputs": [
    {
     "name": "stdout",
     "output_type": "stream",
     "text": [
      "DATA YYYY-MM-DD                                       string[python]\n",
      "HORA UTC                                              string[python]\n",
      "PRECIPITACÃO TOTAL HORÁRIO MM                                float32\n",
      "PRESSAO ATMOSFERICA AO NIVEL DA ESTACAO HORARIA MB           float32\n",
      "PRESSÃO ATMOSFERICA MAX.NA HORA ANT. AUT MB                  float32\n",
      "PRESSÃO ATMOSFERICA MIN. NA HORA ANT. AUT MB                 float32\n",
      "RADIACAO GLOBAL KJ/M²                                        float32\n",
      "TEMPERATURA DO AR - BULBO SECO HORARIA °C                    float32\n",
      "TEMPERATURA DO PONTO DE ORVALHO °C                           float32\n",
      "TEMPERATURA MÁXIMA NA HORA ANT. AUT °C                       float32\n",
      "TEMPERATURA MÍNIMA NA HORA ANT. AUT °C                       float32\n",
      "TEMPERATURA ORVALHO MAX. NA HORA ANT. AUT °C                 float32\n",
      "TEMPERATURA ORVALHO MIN. NA HORA ANT. AUT °C                 float32\n",
      "UMIDADE REL. MAX. NA HORA ANT. AUT %                         float32\n",
      "UMIDADE REL. MIN. NA HORA ANT. AUT %                         float32\n",
      "UMIDADE RELATIVA DO AR HORARIA %                             float32\n",
      "VENTO DIRECÃO HORARIA GR ° GR                                float32\n",
      "VENTO RAJADA MAXIMA M/S                                      float32\n",
      "VENTO VELOCIDADE HORARIA M/S                                 float32\n",
      "REGIAO                                                string[python]\n",
      "UF                                                    string[python]\n",
      "ESTACAO                                               string[python]\n",
      "CODIGO (WMO)                                          string[python]\n",
      "LATITUDE                                                     float32\n",
      "LONGITUDE                                                    float32\n",
      "ALTITUDE                                                     float32\n",
      "DATA DE FUNDACAO                                      datetime64[ns]\n",
      "YEAR                                                           Int32\n",
      "dtype: object\n"
     ]
    }
   ],
   "source": [
    "df = pd.read_csv(\"all_data/csvs_processed/INMET_CO_DF_A001_BRASILIA_07-05-2000_A_31-12-2000.CSV\")\n",
    "\n",
    "# Especificar os tipos exatos das colunas\n",
    "dtype_mapping = {\n",
    "    'DATA YYYY-MM-DD': 'string',\n",
    "    'HORA UTC': 'string',\n",
    "    'PRECIPITACÃO TOTAL HORÁRIO MM': 'float32',\n",
    "    'PRESSAO ATMOSFERICA AO NIVEL DA ESTACAO HORARIA MB': 'float32',\n",
    "    'PRESSÃO ATMOSFERICA MAX.NA HORA ANT. AUT MB': 'float32',\n",
    "    'PRESSÃO ATMOSFERICA MIN. NA HORA ANT. AUT MB': 'float32',\n",
    "    'RADIACAO GLOBAL KJ/M²': 'float32',\n",
    "    'TEMPERATURA DO AR - BULBO SECO HORARIA °C': 'float32',\n",
    "    'TEMPERATURA DO PONTO DE ORVALHO °C': 'float32',\n",
    "    'TEMPERATURA MÁXIMA NA HORA ANT. AUT °C': 'float32',\n",
    "    'TEMPERATURA MÍNIMA NA HORA ANT. AUT °C': 'float32',\n",
    "    'TEMPERATURA ORVALHO MAX. NA HORA ANT. AUT °C': 'float32',\n",
    "    'TEMPERATURA ORVALHO MIN. NA HORA ANT. AUT °C': 'float32',\n",
    "    'UMIDADE REL. MAX. NA HORA ANT. AUT %': 'float32',\n",
    "    'UMIDADE REL. MIN. NA HORA ANT. AUT %': 'float32',\n",
    "    'UMIDADE RELATIVA DO AR HORARIA %': 'float32',\n",
    "    'VENTO DIRECÃO HORARIA GR ° GR': 'float32',\n",
    "    'VENTO RAJADA MAXIMA M/S': 'float32',\n",
    "    'VENTO VELOCIDADE HORARIA M/S': 'float32',\n",
    "    'REGIAO': 'string',\n",
    "    'UF': 'string',\n",
    "    'ESTACAO': 'string',\n",
    "    'CODIGO (WMO)': 'string',\n",
    "    'LATITUDE': 'float32',\n",
    "    'LONGITUDE': 'float32',\n",
    "    'ALTITUDE': 'float32',\n",
    "    'DATA DE FUNDACAO': 'string',  # Pode ser convertido para datetime depois\n",
    "    'YEAR': 'Int32'\n",
    "}\n",
    "\n",
    "# Caminho para o arquivo tratado\n",
    "file_path = 'all_data/csvs_concatenated/concat_full/full_concatenated.csv'\n",
    "\n",
    "# Carregar com dtype especificado\n",
    "df = pd.read_csv(file_path, dtype=dtype_mapping)\n",
    "\n",
    "# Converter colunas de data (se necessário)\n",
    "df['DATA DE FUNDACAO'] = pd.to_datetime(df['DATA DE FUNDACAO'], errors='coerce', dayfirst=True)\n",
    "\n",
    "print(df.dtypes)"
   ]
  },
  {
   "cell_type": "code",
   "execution_count": 3,
   "metadata": {},
   "outputs": [
    {
     "data": {
      "text/plain": [
       "(25176, 28)"
      ]
     },
     "execution_count": 3,
     "metadata": {},
     "output_type": "execute_result"
    }
   ],
   "source": [
    "df.shape"
   ]
  },
  {
   "cell_type": "code",
   "execution_count": 4,
   "metadata": {},
   "outputs": [
    {
     "data": {
      "text/html": [
       "<div>\n",
       "<style scoped>\n",
       "    .dataframe tbody tr th:only-of-type {\n",
       "        vertical-align: middle;\n",
       "    }\n",
       "\n",
       "    .dataframe tbody tr th {\n",
       "        vertical-align: top;\n",
       "    }\n",
       "\n",
       "    .dataframe thead th {\n",
       "        text-align: right;\n",
       "    }\n",
       "</style>\n",
       "<table border=\"1\" class=\"dataframe\">\n",
       "  <thead>\n",
       "    <tr style=\"text-align: right;\">\n",
       "      <th></th>\n",
       "      <th>DATA YYYY-MM-DD</th>\n",
       "      <th>HORA UTC</th>\n",
       "      <th>PRECIPITACÃO TOTAL HORÁRIO MM</th>\n",
       "      <th>PRESSAO ATMOSFERICA AO NIVEL DA ESTACAO HORARIA MB</th>\n",
       "      <th>PRESSÃO ATMOSFERICA MAX.NA HORA ANT. AUT MB</th>\n",
       "      <th>PRESSÃO ATMOSFERICA MIN. NA HORA ANT. AUT MB</th>\n",
       "      <th>RADIACAO GLOBAL KJ/M²</th>\n",
       "      <th>TEMPERATURA DO AR - BULBO SECO HORARIA °C</th>\n",
       "      <th>TEMPERATURA DO PONTO DE ORVALHO °C</th>\n",
       "      <th>TEMPERATURA MÁXIMA NA HORA ANT. AUT °C</th>\n",
       "      <th>TEMPERATURA MÍNIMA NA HORA ANT. AUT °C</th>\n",
       "      <th>TEMPERATURA ORVALHO MAX. NA HORA ANT. AUT °C</th>\n",
       "      <th>TEMPERATURA ORVALHO MIN. NA HORA ANT. AUT °C</th>\n",
       "      <th>UMIDADE REL. MAX. NA HORA ANT. AUT %</th>\n",
       "      <th>UMIDADE REL. MIN. NA HORA ANT. AUT %</th>\n",
       "      <th>UMIDADE RELATIVA DO AR HORARIA %</th>\n",
       "      <th>VENTO DIRECÃO HORARIA GR ° GR</th>\n",
       "      <th>VENTO RAJADA MAXIMA M/S</th>\n",
       "      <th>VENTO VELOCIDADE HORARIA M/S</th>\n",
       "      <th>REGIAO</th>\n",
       "      <th>UF</th>\n",
       "      <th>ESTACAO</th>\n",
       "      <th>CODIGO (WMO)</th>\n",
       "      <th>LATITUDE</th>\n",
       "      <th>LONGITUDE</th>\n",
       "      <th>ALTITUDE</th>\n",
       "      <th>DATA DE FUNDACAO</th>\n",
       "      <th>YEAR</th>\n",
       "    </tr>\n",
       "  </thead>\n",
       "  <tbody>\n",
       "    <tr>\n",
       "      <th>0</th>\n",
       "      <td>2000-05-07</td>\n",
       "      <td>00:00</td>\n",
       "      <td>-9999.0</td>\n",
       "      <td>-9999.0</td>\n",
       "      <td>-9999.0</td>\n",
       "      <td>-9999.0</td>\n",
       "      <td>-9999.0</td>\n",
       "      <td>-9999.0</td>\n",
       "      <td>-9999.0</td>\n",
       "      <td>-9999.0</td>\n",
       "      <td>-9999.0</td>\n",
       "      <td>-9999.0</td>\n",
       "      <td>-9999.0</td>\n",
       "      <td>-9999.0</td>\n",
       "      <td>-9999.0</td>\n",
       "      <td>-9999.0</td>\n",
       "      <td>-9999.0</td>\n",
       "      <td>-9999.0</td>\n",
       "      <td>-9999.0</td>\n",
       "      <td>CO</td>\n",
       "      <td>DF</td>\n",
       "      <td>BRASILIA</td>\n",
       "      <td>A001</td>\n",
       "      <td>-15.789444</td>\n",
       "      <td>-47.925835</td>\n",
       "      <td>1159.540039</td>\n",
       "      <td>2000-01-01</td>\n",
       "      <td>2000</td>\n",
       "    </tr>\n",
       "  </tbody>\n",
       "</table>\n",
       "</div>"
      ],
      "text/plain": [
       "  DATA YYYY-MM-DD HORA UTC  PRECIPITACÃO TOTAL HORÁRIO MM  \\\n",
       "0      2000-05-07    00:00                        -9999.0   \n",
       "\n",
       "   PRESSAO ATMOSFERICA AO NIVEL DA ESTACAO HORARIA MB  \\\n",
       "0                                             -9999.0   \n",
       "\n",
       "   PRESSÃO ATMOSFERICA MAX.NA HORA ANT. AUT MB  \\\n",
       "0                                      -9999.0   \n",
       "\n",
       "   PRESSÃO ATMOSFERICA MIN. NA HORA ANT. AUT MB  RADIACAO GLOBAL KJ/M²  \\\n",
       "0                                       -9999.0                -9999.0   \n",
       "\n",
       "   TEMPERATURA DO AR - BULBO SECO HORARIA °C  \\\n",
       "0                                    -9999.0   \n",
       "\n",
       "   TEMPERATURA DO PONTO DE ORVALHO °C  TEMPERATURA MÁXIMA NA HORA ANT. AUT °C  \\\n",
       "0                             -9999.0                                 -9999.0   \n",
       "\n",
       "   TEMPERATURA MÍNIMA NA HORA ANT. AUT °C  \\\n",
       "0                                 -9999.0   \n",
       "\n",
       "   TEMPERATURA ORVALHO MAX. NA HORA ANT. AUT °C  \\\n",
       "0                                       -9999.0   \n",
       "\n",
       "   TEMPERATURA ORVALHO MIN. NA HORA ANT. AUT °C  \\\n",
       "0                                       -9999.0   \n",
       "\n",
       "   UMIDADE REL. MAX. NA HORA ANT. AUT %  UMIDADE REL. MIN. NA HORA ANT. AUT %  \\\n",
       "0                               -9999.0                               -9999.0   \n",
       "\n",
       "   UMIDADE RELATIVA DO AR HORARIA %  VENTO DIRECÃO HORARIA GR ° GR  \\\n",
       "0                           -9999.0                        -9999.0   \n",
       "\n",
       "   VENTO RAJADA MAXIMA M/S  VENTO VELOCIDADE HORARIA M/S REGIAO  UF   ESTACAO  \\\n",
       "0                  -9999.0                       -9999.0     CO  DF  BRASILIA   \n",
       "\n",
       "  CODIGO (WMO)   LATITUDE  LONGITUDE     ALTITUDE DATA DE FUNDACAO  YEAR  \n",
       "0         A001 -15.789444 -47.925835  1159.540039       2000-01-01  2000  "
      ]
     },
     "execution_count": 4,
     "metadata": {},
     "output_type": "execute_result"
    }
   ],
   "source": [
    "df.head(1)"
   ]
  },
  {
   "cell_type": "code",
   "execution_count": 5,
   "metadata": {},
   "outputs": [
    {
     "data": {
      "text/plain": [
       "25178"
      ]
     },
     "execution_count": 5,
     "metadata": {},
     "output_type": "execute_result"
    }
   ],
   "source": [
    "5737 + 5688 + 5592 + 2425 + 5736"
   ]
  },
  {
   "cell_type": "code",
   "execution_count": null,
   "metadata": {},
   "outputs": [],
   "source": [
    "df_proc.head(1)"
   ]
  },
  {
   "cell_type": "code",
   "execution_count": null,
   "metadata": {},
   "outputs": [],
   "source": [
    "df_proc.shape"
   ]
  },
  {
   "cell_type": "code",
   "execution_count": null,
   "metadata": {},
   "outputs": [],
   "source": [
    "df.isnull().sum()"
   ]
  },
  {
   "cell_type": "code",
   "execution_count": null,
   "metadata": {},
   "outputs": [],
   "source": [
    "df_proc.isnull().sum()"
   ]
  },
  {
   "cell_type": "code",
   "execution_count": null,
   "metadata": {},
   "outputs": [],
   "source": [
    "df_proc.dtypes"
   ]
  },
  {
   "cell_type": "code",
   "execution_count": null,
   "metadata": {},
   "outputs": [],
   "source": [
    "import pandas as pd\n",
    "import numpy as np\n",
    "\n",
    "# Criar um DataFrame de exemplo\n",
    "df = pd.DataFrame({\n",
    "    'float_col': [1.1, 2.2, 3.3],\n",
    "    'int_col': [1, 2, 3]\n",
    "})\n",
    "\n",
    "# Converter explicitamente\n",
    "df['float_col'] = df['float_col'].astype('float32')\n",
    "df['int_col'] = df['int_col'].astype('int32')\n",
    "\n",
    "print(\"Tipos originais:\")\n",
    "print(df.dtypes)\n",
    "\n",
    "# Salvar CSV\n",
    "df.to_csv('test.csv', index=False)\n",
    "\n",
    "# Ler CSV de volta\n",
    "df_read = pd.read_csv('test.csv')\n",
    "\n",
    "print(\"\\nTipos após ler o CSV:\")\n",
    "print(df_read.dtypes)\n",
    "\n",
    "# Agora vamos tentar salvar especificando o formato dos números\n",
    "df.to_csv('test.csv', index=False, float_format='%.2f')\n",
    "df_read = pd.read_csv('test.csv', dtype={'float_col': 'float32', 'int_col': 'int32'})\n",
    "\n",
    "print(\"\\nTipos após ler o CSV com dtype especificado:\")\n",
    "print(df_read.dtypes)"
   ]
  }
 ],
 "metadata": {
  "kernelspec": {
   "display_name": "allgpu_env",
   "language": "python",
   "name": "python3"
  },
  "language_info": {
   "codemirror_mode": {
    "name": "ipython",
    "version": 3
   },
   "file_extension": ".py",
   "mimetype": "text/x-python",
   "name": "python",
   "nbconvert_exporter": "python",
   "pygments_lexer": "ipython3",
   "version": "3.12.2"
  }
 },
 "nbformat": 4,
 "nbformat_minor": 2
}
