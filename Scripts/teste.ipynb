{
 "cells": [
  {
   "cell_type": "code",
   "execution_count": 1,
   "metadata": {},
   "outputs": [],
   "source": [
    "import pandas as pd\n",
    "import csv\n",
    "\n",
    "pd.set_option(\"display.max_rows\", None)\n",
    "pd.set_option(\"display.max_columns\", None)\n",
    "pd.set_option('display.max_colwidth', None)\n"
   ]
  },
  {
   "cell_type": "code",
   "execution_count": null,
   "metadata": {},
   "outputs": [],
   "source": [
    "# Especificar os tipos exatos das colunas\n",
    "dtype_mapping = {\n",
    "    'DATA YYYY-MM-DD': 'string',\n",
    "    'HORA UTC': 'string',\n",
    "    'PRECIPITACÃO TOTAL HORÁRIO MM': 'float32',\n",
    "    'PRESSAO ATMOSFERICA AO NIVEL DA ESTACAO HORARIA MB': 'float32',\n",
    "    'PRESSÃO ATMOSFERICA MAX.NA HORA ANT. AUT MB': 'float32',\n",
    "    'PRESSÃO ATMOSFERICA MIN. NA HORA ANT. AUT MB': 'float32',\n",
    "    'RADIACAO GLOBAL KJ/M²': 'float32',\n",
    "    'TEMPERATURA DO AR - BULBO SECO HORARIA °C': 'float32',\n",
    "    'TEMPERATURA DO PONTO DE ORVALHO °C': 'float32',\n",
    "    'TEMPERATURA MÁXIMA NA HORA ANT. AUT °C': 'float32',\n",
    "    'TEMPERATURA MÍNIMA NA HORA ANT. AUT °C': 'float32',\n",
    "    'TEMPERATURA ORVALHO MAX. NA HORA ANT. AUT °C': 'float32',\n",
    "    'TEMPERATURA ORVALHO MIN. NA HORA ANT. AUT °C': 'float32',\n",
    "    'UMIDADE REL. MAX. NA HORA ANT. AUT %': 'float32',\n",
    "    'UMIDADE REL. MIN. NA HORA ANT. AUT %': 'float32',\n",
    "    'UMIDADE RELATIVA DO AR HORARIA %': 'float32',\n",
    "    'VENTO DIRECÃO HORARIA GR ° GR': 'float32',\n",
    "    'VENTO RAJADA MAXIMA M/S': 'float32',\n",
    "    'VENTO VELOCIDADE HORARIA M/S': 'float32',\n",
    "    'REGIAO': 'string',\n",
    "    'UF': 'string',\n",
    "    'ESTACAO': 'string',\n",
    "    'CODIGO (WMO)': 'string',\n",
    "    'LATITUDE': 'float32',\n",
    "    'LONGITUDE': 'float32',\n",
    "    'ALTITUDE': 'float32',\n",
    "    'DATA DE FUNDACAO': 'string',  # Pode ser convertido para datetime depois\n",
    "    'YEAR': 'Int32'\n",
    "}\n",
    "\n",
    "unp_df = pd.read_csv(\n",
    "    \"all_data/csvs_processed/INMET_CO_DF_A001_BRASILIA_01-01-2001_A_31-12-2001.CSV\", \n",
    "    #sep = \";\",\n",
    "    encoding='utf-8' , \n",
    "    encoding_errors='ignore'  # Ignora caracteres inválidos\n",
    ")\n",
    "\n",
    "# Caminho para o arquivo tratado\n",
    "#file_path = 'all_data/csvs_concatenated/test_models/testa_modelo.csv.gz'\n",
    "\n",
    "file_path = 'climate_prediction/outputs/data/train_final.csv.gz'\n",
    "\n",
    "# Carregar com dtype especificado\n",
    "df = pd.read_csv(file_path)#, dtype=dtype_mapping)\n",
    "\n",
    "# Converter colunas de data (se necessário)\n",
    "#df['DATA DE FUNDACAO'] = pd.to_datetime(df['DATA DE FUNDACAO'], errors='coerce', dayfirst=True)\n",
    "\n",
    "#print(df.dtypes)"
   ]
  },
  {
   "cell_type": "code",
   "execution_count": 6,
   "metadata": {},
   "outputs": [],
   "source": [
    "file_path = 'climate_prediction/outputs/data/train_final.csv.gz'\n",
    "\n",
    "# Carregar com dtype especificado\n",
    "df = pd.read_csv(file_path)#, dtype=dtype_mapping)"
   ]
  },
  {
   "cell_type": "code",
   "execution_count": 7,
   "metadata": {},
   "outputs": [
    {
     "data": {
      "text/plain": [
       "(3115693, 37)"
      ]
     },
     "execution_count": 7,
     "metadata": {},
     "output_type": "execute_result"
    }
   ],
   "source": [
    "df.shape"
   ]
  },
  {
   "cell_type": "code",
   "execution_count": 8,
   "metadata": {},
   "outputs": [
    {
     "data": {
      "text/html": [
       "<div>\n",
       "<style scoped>\n",
       "    .dataframe tbody tr th:only-of-type {\n",
       "        vertical-align: middle;\n",
       "    }\n",
       "\n",
       "    .dataframe tbody tr th {\n",
       "        vertical-align: top;\n",
       "    }\n",
       "\n",
       "    .dataframe thead th {\n",
       "        text-align: right;\n",
       "    }\n",
       "</style>\n",
       "<table border=\"1\" class=\"dataframe\">\n",
       "  <thead>\n",
       "    <tr style=\"text-align: right;\">\n",
       "      <th></th>\n",
       "      <th>Unnamed: 0</th>\n",
       "      <th>DATA YYYY-MM-DD</th>\n",
       "      <th>UF</th>\n",
       "      <th>ESTACAO</th>\n",
       "      <th>CODIGO (WMO)</th>\n",
       "      <th>LATITUDE</th>\n",
       "      <th>LONGITUDE</th>\n",
       "      <th>ALTITUDE</th>\n",
       "      <th>YEAR</th>\n",
       "      <th>PRECIPITACÃO TOTAL HORÁRIO MM</th>\n",
       "      <th>PRESSAO ATMOSFERICA AO NIVEL DA ESTACAO HORARIA MB</th>\n",
       "      <th>PRESSÃO ATMOSFERICA MAX.NA HORA ANT. AUT MB</th>\n",
       "      <th>PRESSÃO ATMOSFERICA MIN. NA HORA ANT. AUT MB</th>\n",
       "      <th>RADIACAO GLOBAL KJ/M²</th>\n",
       "      <th>TEMPERATURA DO AR - BULBO SECO HORARIA °C</th>\n",
       "      <th>TEMPERATURA DO PONTO DE ORVALHO °C</th>\n",
       "      <th>TEMPERATURA MÁXIMA NA HORA ANT. AUT °C</th>\n",
       "      <th>TEMPERATURA MÍNIMA NA HORA ANT. AUT °C</th>\n",
       "      <th>TEMPERATURA ORVALHO MAX. NA HORA ANT. AUT °C</th>\n",
       "      <th>TEMPERATURA ORVALHO MIN. NA HORA ANT. AUT °C</th>\n",
       "      <th>UMIDADE REL. MAX. NA HORA ANT. AUT %</th>\n",
       "      <th>UMIDADE REL. MIN. NA HORA ANT. AUT %</th>\n",
       "      <th>UMIDADE RELATIVA DO AR HORARIA %</th>\n",
       "      <th>VENTO DIRECÃO HORARIA GR ° GR</th>\n",
       "      <th>VENTO RAJADA MAXIMA M/S</th>\n",
       "      <th>VENTO VELOCIDADE HORARIA M/S</th>\n",
       "      <th>DATETIME</th>\n",
       "      <th>REGIAO</th>\n",
       "      <th>day</th>\n",
       "      <th>month</th>\n",
       "      <th>day_of_week</th>\n",
       "      <th>month_sin</th>\n",
       "      <th>month_cos</th>\n",
       "      <th>temp_mean_24</th>\n",
       "      <th>temp_std_24</th>\n",
       "      <th>is_raining</th>\n",
       "      <th>is_humid</th>\n",
       "    </tr>\n",
       "  </thead>\n",
       "  <tbody>\n",
       "    <tr>\n",
       "      <th>0</th>\n",
       "      <td>1970-01-01 00:00:00.000000000</td>\n",
       "      <td>2000-05-07</td>\n",
       "      <td>DF</td>\n",
       "      <td>BRASILIA</td>\n",
       "      <td>A001</td>\n",
       "      <td>-15.789444</td>\n",
       "      <td>-47.925835</td>\n",
       "      <td>1159.54</td>\n",
       "      <td>2000</td>\n",
       "      <td>0.0</td>\n",
       "      <td>886.391667</td>\n",
       "      <td>886.5125</td>\n",
       "      <td>885.929167</td>\n",
       "      <td>1042.625000</td>\n",
       "      <td>23.862500</td>\n",
       "      <td>15.504167</td>\n",
       "      <td>24.566667</td>\n",
       "      <td>23.133333</td>\n",
       "      <td>16.137500</td>\n",
       "      <td>15.050000</td>\n",
       "      <td>64.791667</td>\n",
       "      <td>57.75</td>\n",
       "      <td>61.083333</td>\n",
       "      <td>187.166667</td>\n",
       "      <td>3.911310</td>\n",
       "      <td>1.633333</td>\n",
       "      <td>2000-05-07 00:00:00</td>\n",
       "      <td>CO</td>\n",
       "      <td>1</td>\n",
       "      <td>1</td>\n",
       "      <td>3</td>\n",
       "      <td>0.5</td>\n",
       "      <td>0.866025</td>\n",
       "      <td>20.692708</td>\n",
       "      <td>1.638419</td>\n",
       "      <td>0</td>\n",
       "      <td>0</td>\n",
       "    </tr>\n",
       "    <tr>\n",
       "      <th>1</th>\n",
       "      <td>1970-01-01 00:00:00.000000001</td>\n",
       "      <td>2000-05-08</td>\n",
       "      <td>DF</td>\n",
       "      <td>BRASILIA</td>\n",
       "      <td>A001</td>\n",
       "      <td>-15.789444</td>\n",
       "      <td>-47.925835</td>\n",
       "      <td>1159.54</td>\n",
       "      <td>2000</td>\n",
       "      <td>0.0</td>\n",
       "      <td>888.062500</td>\n",
       "      <td>888.2500</td>\n",
       "      <td>887.845833</td>\n",
       "      <td>921.833333</td>\n",
       "      <td>22.104167</td>\n",
       "      <td>13.533333</td>\n",
       "      <td>22.654167</td>\n",
       "      <td>21.416667</td>\n",
       "      <td>14.108333</td>\n",
       "      <td>12.879167</td>\n",
       "      <td>63.791667</td>\n",
       "      <td>57.50</td>\n",
       "      <td>60.500000</td>\n",
       "      <td>117.000000</td>\n",
       "      <td>4.133333</td>\n",
       "      <td>2.066667</td>\n",
       "      <td>2000-05-08 00:00:00</td>\n",
       "      <td>CO</td>\n",
       "      <td>1</td>\n",
       "      <td>1</td>\n",
       "      <td>3</td>\n",
       "      <td>0.5</td>\n",
       "      <td>0.866025</td>\n",
       "      <td>20.628205</td>\n",
       "      <td>1.585813</td>\n",
       "      <td>0</td>\n",
       "      <td>0</td>\n",
       "    </tr>\n",
       "  </tbody>\n",
       "</table>\n",
       "</div>"
      ],
      "text/plain": [
       "                      Unnamed: 0 DATA YYYY-MM-DD  UF   ESTACAO CODIGO (WMO)  \\\n",
       "0  1970-01-01 00:00:00.000000000      2000-05-07  DF  BRASILIA         A001   \n",
       "1  1970-01-01 00:00:00.000000001      2000-05-08  DF  BRASILIA         A001   \n",
       "\n",
       "    LATITUDE  LONGITUDE  ALTITUDE  YEAR  PRECIPITACÃO TOTAL HORÁRIO MM  \\\n",
       "0 -15.789444 -47.925835   1159.54  2000                            0.0   \n",
       "1 -15.789444 -47.925835   1159.54  2000                            0.0   \n",
       "\n",
       "   PRESSAO ATMOSFERICA AO NIVEL DA ESTACAO HORARIA MB  \\\n",
       "0                                          886.391667   \n",
       "1                                          888.062500   \n",
       "\n",
       "   PRESSÃO ATMOSFERICA MAX.NA HORA ANT. AUT MB  \\\n",
       "0                                     886.5125   \n",
       "1                                     888.2500   \n",
       "\n",
       "   PRESSÃO ATMOSFERICA MIN. NA HORA ANT. AUT MB  RADIACAO GLOBAL KJ/M²  \\\n",
       "0                                    885.929167            1042.625000   \n",
       "1                                    887.845833             921.833333   \n",
       "\n",
       "   TEMPERATURA DO AR - BULBO SECO HORARIA °C  \\\n",
       "0                                  23.862500   \n",
       "1                                  22.104167   \n",
       "\n",
       "   TEMPERATURA DO PONTO DE ORVALHO °C  TEMPERATURA MÁXIMA NA HORA ANT. AUT °C  \\\n",
       "0                           15.504167                               24.566667   \n",
       "1                           13.533333                               22.654167   \n",
       "\n",
       "   TEMPERATURA MÍNIMA NA HORA ANT. AUT °C  \\\n",
       "0                               23.133333   \n",
       "1                               21.416667   \n",
       "\n",
       "   TEMPERATURA ORVALHO MAX. NA HORA ANT. AUT °C  \\\n",
       "0                                     16.137500   \n",
       "1                                     14.108333   \n",
       "\n",
       "   TEMPERATURA ORVALHO MIN. NA HORA ANT. AUT °C  \\\n",
       "0                                     15.050000   \n",
       "1                                     12.879167   \n",
       "\n",
       "   UMIDADE REL. MAX. NA HORA ANT. AUT %  UMIDADE REL. MIN. NA HORA ANT. AUT %  \\\n",
       "0                             64.791667                                 57.75   \n",
       "1                             63.791667                                 57.50   \n",
       "\n",
       "   UMIDADE RELATIVA DO AR HORARIA %  VENTO DIRECÃO HORARIA GR ° GR  \\\n",
       "0                         61.083333                     187.166667   \n",
       "1                         60.500000                     117.000000   \n",
       "\n",
       "   VENTO RAJADA MAXIMA M/S  VENTO VELOCIDADE HORARIA M/S             DATETIME  \\\n",
       "0                 3.911310                      1.633333  2000-05-07 00:00:00   \n",
       "1                 4.133333                      2.066667  2000-05-08 00:00:00   \n",
       "\n",
       "  REGIAO  day  month  day_of_week  month_sin  month_cos  temp_mean_24  \\\n",
       "0     CO    1      1            3        0.5   0.866025     20.692708   \n",
       "1     CO    1      1            3        0.5   0.866025     20.628205   \n",
       "\n",
       "   temp_std_24  is_raining  is_humid  \n",
       "0     1.638419           0         0  \n",
       "1     1.585813           0         0  "
      ]
     },
     "execution_count": 8,
     "metadata": {},
     "output_type": "execute_result"
    }
   ],
   "source": [
    "df.head(2)"
   ]
  },
  {
   "cell_type": "code",
   "execution_count": 9,
   "metadata": {},
   "outputs": [
    {
     "data": {
      "text/plain": [
       "Unnamed: 0                                            0\n",
       "DATA YYYY-MM-DD                                       0\n",
       "UF                                                    0\n",
       "ESTACAO                                               0\n",
       "CODIGO (WMO)                                          0\n",
       "LATITUDE                                              0\n",
       "LONGITUDE                                             0\n",
       "ALTITUDE                                              0\n",
       "YEAR                                                  0\n",
       "PRECIPITACÃO TOTAL HORÁRIO MM                         0\n",
       "PRESSAO ATMOSFERICA AO NIVEL DA ESTACAO HORARIA MB    0\n",
       "PRESSÃO ATMOSFERICA MAX.NA HORA ANT. AUT MB           0\n",
       "PRESSÃO ATMOSFERICA MIN. NA HORA ANT. AUT MB          0\n",
       "RADIACAO GLOBAL KJ/M²                                 0\n",
       "TEMPERATURA DO AR - BULBO SECO HORARIA °C             0\n",
       "TEMPERATURA DO PONTO DE ORVALHO °C                    0\n",
       "TEMPERATURA MÁXIMA NA HORA ANT. AUT °C                0\n",
       "TEMPERATURA MÍNIMA NA HORA ANT. AUT °C                0\n",
       "TEMPERATURA ORVALHO MAX. NA HORA ANT. AUT °C          0\n",
       "TEMPERATURA ORVALHO MIN. NA HORA ANT. AUT °C          0\n",
       "UMIDADE REL. MAX. NA HORA ANT. AUT %                  0\n",
       "UMIDADE REL. MIN. NA HORA ANT. AUT %                  0\n",
       "UMIDADE RELATIVA DO AR HORARIA %                      0\n",
       "VENTO DIRECÃO HORARIA GR ° GR                         0\n",
       "VENTO RAJADA MAXIMA M/S                               0\n",
       "VENTO VELOCIDADE HORARIA M/S                          0\n",
       "DATETIME                                              0\n",
       "REGIAO                                                0\n",
       "day                                                   0\n",
       "month                                                 0\n",
       "day_of_week                                           0\n",
       "month_sin                                             0\n",
       "month_cos                                             0\n",
       "temp_mean_24                                          0\n",
       "temp_std_24                                           0\n",
       "is_raining                                            0\n",
       "is_humid                                              0\n",
       "dtype: int64"
      ]
     },
     "execution_count": 9,
     "metadata": {},
     "output_type": "execute_result"
    }
   ],
   "source": [
    "df.isnull().sum()"
   ]
  },
  {
   "cell_type": "code",
   "execution_count": null,
   "metadata": {},
   "outputs": [],
   "source": [
    "df.dtypes"
   ]
  },
  {
   "cell_type": "code",
   "execution_count": null,
   "metadata": {},
   "outputs": [],
   "source": [
    "unp_df.isnull().sum()"
   ]
  },
  {
   "cell_type": "code",
   "execution_count": null,
   "metadata": {},
   "outputs": [],
   "source": [
    "df.dtypes"
   ]
  },
  {
   "cell_type": "code",
   "execution_count": null,
   "metadata": {},
   "outputs": [],
   "source": [
    "df.shape"
   ]
  },
  {
   "cell_type": "code",
   "execution_count": null,
   "metadata": {},
   "outputs": [],
   "source": [
    "df.head()"
   ]
  },
  {
   "cell_type": "code",
   "execution_count": null,
   "metadata": {},
   "outputs": [],
   "source": [
    "df.isnull().sum()"
   ]
  },
  {
   "cell_type": "code",
   "execution_count": null,
   "metadata": {},
   "outputs": [],
   "source": [
    "unp_df.head(2)"
   ]
  },
  {
   "cell_type": "code",
   "execution_count": null,
   "metadata": {},
   "outputs": [],
   "source": [
    "df_proc.shape"
   ]
  },
  {
   "cell_type": "code",
   "execution_count": null,
   "metadata": {},
   "outputs": [],
   "source": [
    "df.isnull().sum()"
   ]
  },
  {
   "cell_type": "code",
   "execution_count": null,
   "metadata": {},
   "outputs": [],
   "source": [
    "df_proc.isnull().sum()"
   ]
  },
  {
   "cell_type": "code",
   "execution_count": null,
   "metadata": {},
   "outputs": [],
   "source": [
    "df_proc.dtypes"
   ]
  },
  {
   "cell_type": "code",
   "execution_count": null,
   "metadata": {},
   "outputs": [],
   "source": [
    "import pandas as pd\n",
    "import numpy as np\n",
    "\n",
    "# Criar um DataFrame de exemplo\n",
    "df = pd.DataFrame({\n",
    "    'float_col': [1.1, 2.2, 3.3],\n",
    "    'int_col': [1, 2, 3]\n",
    "})\n",
    "\n",
    "# Converter explicitamente\n",
    "df['float_col'] = df['float_col'].astype('float32')\n",
    "df['int_col'] = df['int_col'].astype('int32')\n",
    "\n",
    "print(\"Tipos originais:\")\n",
    "print(df.dtypes)\n",
    "\n",
    "# Salvar CSV\n",
    "df.to_csv('test.csv', index=False)\n",
    "\n",
    "# Ler CSV de volta\n",
    "df_read = pd.read_csv('test.csv')\n",
    "\n",
    "print(\"\\nTipos após ler o CSV:\")\n",
    "print(df_read.dtypes)\n",
    "\n",
    "# Agora vamos tentar salvar especificando o formato dos números\n",
    "df.to_csv('test.csv', index=False, float_format='%.2f')\n",
    "df_read = pd.read_csv('test.csv', dtype={'float_col': 'float32', 'int_col': 'int32'})\n",
    "\n",
    "print(\"\\nTipos após ler o CSV com dtype especificado:\")\n",
    "print(df_read.dtypes)"
   ]
  }
 ],
 "metadata": {
  "kernelspec": {
   "display_name": "gpuenv",
   "language": "python",
   "name": "python3"
  },
  "language_info": {
   "codemirror_mode": {
    "name": "ipython",
    "version": 3
   },
   "file_extension": ".py",
   "mimetype": "text/x-python",
   "name": "python",
   "nbconvert_exporter": "python",
   "pygments_lexer": "ipython3",
   "version": "3.11.9"
  }
 },
 "nbformat": 4,
 "nbformat_minor": 2
}
