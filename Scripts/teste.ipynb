{
 "cells": [
  {
   "cell_type": "code",
   "execution_count": 1,
   "metadata": {},
   "outputs": [],
   "source": [
    "import pandas as pd\n",
    "import csv\n",
    "\n",
    "pd.set_option(\"display.max_rows\", None)\n",
    "pd.set_option(\"display.max_columns\", None)\n",
    "pd.set_option('display.max_colwidth', None)\n"
   ]
  },
  {
   "cell_type": "code",
   "execution_count": 2,
   "metadata": {},
   "outputs": [],
   "source": [
    "# Especificar os tipos exatos das colunas\n",
    "dtype_mapping = {\n",
    "    'DATA YYYY-MM-DD': 'string',\n",
    "    'HORA UTC': 'string',\n",
    "    'PRECIPITACÃO TOTAL HORÁRIO MM': 'float32',\n",
    "    'PRESSAO ATMOSFERICA AO NIVEL DA ESTACAO HORARIA MB': 'float32',\n",
    "    'PRESSÃO ATMOSFERICA MAX.NA HORA ANT. AUT MB': 'float32',\n",
    "    'PRESSÃO ATMOSFERICA MIN. NA HORA ANT. AUT MB': 'float32',\n",
    "    'RADIACAO GLOBAL KJ/M²': 'float32',\n",
    "    'TEMPERATURA DO AR - BULBO SECO HORARIA °C': 'float32',\n",
    "    'TEMPERATURA DO PONTO DE ORVALHO °C': 'float32',\n",
    "    'TEMPERATURA MÁXIMA NA HORA ANT. AUT °C': 'float32',\n",
    "    'TEMPERATURA MÍNIMA NA HORA ANT. AUT °C': 'float32',\n",
    "    'TEMPERATURA ORVALHO MAX. NA HORA ANT. AUT °C': 'float32',\n",
    "    'TEMPERATURA ORVALHO MIN. NA HORA ANT. AUT °C': 'float32',\n",
    "    'UMIDADE REL. MAX. NA HORA ANT. AUT %': 'float32',\n",
    "    'UMIDADE REL. MIN. NA HORA ANT. AUT %': 'float32',\n",
    "    'UMIDADE RELATIVA DO AR HORARIA %': 'float32',\n",
    "    'VENTO DIRECÃO HORARIA GR ° GR': 'float32',\n",
    "    'VENTO RAJADA MAXIMA M/S': 'float32',\n",
    "    'VENTO VELOCIDADE HORARIA M/S': 'float32',\n",
    "    'REGIAO': 'string',\n",
    "    'UF': 'string',\n",
    "    'ESTACAO': 'string',\n",
    "    'CODIGO (WMO)': 'string',\n",
    "    'LATITUDE': 'float32',\n",
    "    'LONGITUDE': 'float32',\n",
    "    'ALTITUDE': 'float32',\n",
    "    'DATA DE FUNDACAO': 'string',  # Pode ser convertido para datetime depois\n",
    "    'YEAR': 'Int32'\n",
    "}\n",
    "\n",
    "unp_df = pd.read_csv(\n",
    "    \"all_data/csvs_processed/INMET_CO_DF_A001_BRASILIA_01-01-2009_A_31-12-2009.CSV\", \n",
    "    #sep = \";\",\n",
    "    encoding='utf-8' , \n",
    "    encoding_errors='ignore'  # Ignora caracteres inválidos\n",
    ")\n",
    "\n",
    "# Caminho para o arquivo tratado\n",
    "#file_path = 'all_data/csvs_concatenated/test_models/testa_modelo.csv.gz'\n",
    "\n",
    "file_path = 'all_data/csvs_treated/INMET_CO_DF_A001_BRASILIA_01-01-2020_A_31-12-2020.csv.gz'\n",
    "\n",
    "# Carregar com dtype especificado\n",
    "df = pd.read_csv(file_path)#, dtype=dtype_mapping)\n",
    "\n",
    "# Converter colunas de data (se necessário)\n",
    "#df['DATA DE FUNDACAO'] = pd.to_datetime(df['DATA DE FUNDACAO'], errors='coerce', dayfirst=True)\n",
    "\n",
    "#print(df.dtypes)"
   ]
  },
  {
   "cell_type": "code",
   "execution_count": null,
   "metadata": {},
   "outputs": [],
   "source": [
    "df.isnull().sum()"
   ]
  },
  {
   "cell_type": "code",
   "execution_count": null,
   "metadata": {},
   "outputs": [],
   "source": [
    "unp_df.isnull().sum()"
   ]
  },
  {
   "cell_type": "code",
   "execution_count": 3,
   "metadata": {},
   "outputs": [
    {
     "data": {
      "text/plain": [
       "DATA                                                   object\n",
       "HORA UTC                                                int64\n",
       "PRECIPITACÃO TOTAL HORÁRIO MM                         float64\n",
       "PRESSAO ATMOSFERICA AO NIVEL DA ESTACAO HORARIA MB    float64\n",
       "PRESSÃO ATMOSFERICA MAX.NA HORA ANT. AUT MB           float64\n",
       "PRESSÃO ATMOSFERICA MIN. NA HORA ANT. AUT MB          float64\n",
       "RADIACAO GLOBAL KJ/M²                                 float64\n",
       "TEMPERATURA DO AR - BULBO SECO HORARIA °C             float64\n",
       "TEMPERATURA DO PONTO DE ORVALHO °C                    float64\n",
       "TEMPERATURA MÁXIMA NA HORA ANT. AUT °C                float64\n",
       "TEMPERATURA MÍNIMA NA HORA ANT. AUT °C                float64\n",
       "TEMPERATURA ORVALHO MAX. NA HORA ANT. AUT °C          float64\n",
       "TEMPERATURA ORVALHO MIN. NA HORA ANT. AUT °C          float64\n",
       "UMIDADE REL. MAX. NA HORA ANT. AUT %                  float64\n",
       "UMIDADE REL. MIN. NA HORA ANT. AUT %                  float64\n",
       "UMIDADE RELATIVA DO AR HORARIA %                        int64\n",
       "VENTO DIRECÃO HORARIA GR ° GR                           int64\n",
       "VENTO RAJADA MAXIMA M/S                               float64\n",
       "VENTO VELOCIDADE HORARIA M/S                          float64\n",
       "REGIAO                                                 object\n",
       "UF                                                     object\n",
       "ESTACAO                                                object\n",
       "CODIGO (WMO)                                           object\n",
       "LATITUDE                                              float64\n",
       "LONGITUDE                                             float64\n",
       "ALTITUDE                                              float64\n",
       "DATA DE FUNDACAO                                       object\n",
       "YEAR                                                    int64\n",
       "dtype: object"
      ]
     },
     "execution_count": 3,
     "metadata": {},
     "output_type": "execute_result"
    }
   ],
   "source": [
    "df.dtypes"
   ]
  },
  {
   "cell_type": "code",
   "execution_count": null,
   "metadata": {},
   "outputs": [],
   "source": [
    "df.shape"
   ]
  },
  {
   "cell_type": "code",
   "execution_count": null,
   "metadata": {},
   "outputs": [],
   "source": [
    "df.head()"
   ]
  },
  {
   "cell_type": "code",
   "execution_count": null,
   "metadata": {},
   "outputs": [],
   "source": [
    "df.isnull().sum()"
   ]
  },
  {
   "cell_type": "code",
   "execution_count": null,
   "metadata": {},
   "outputs": [],
   "source": [
    "unp_df.head(2)"
   ]
  },
  {
   "cell_type": "code",
   "execution_count": null,
   "metadata": {},
   "outputs": [],
   "source": [
    "df_proc.shape"
   ]
  },
  {
   "cell_type": "code",
   "execution_count": null,
   "metadata": {},
   "outputs": [],
   "source": [
    "df.isnull().sum()"
   ]
  },
  {
   "cell_type": "code",
   "execution_count": null,
   "metadata": {},
   "outputs": [],
   "source": [
    "df_proc.isnull().sum()"
   ]
  },
  {
   "cell_type": "code",
   "execution_count": null,
   "metadata": {},
   "outputs": [],
   "source": [
    "df_proc.dtypes"
   ]
  },
  {
   "cell_type": "code",
   "execution_count": null,
   "metadata": {},
   "outputs": [],
   "source": [
    "import pandas as pd\n",
    "import numpy as np\n",
    "\n",
    "# Criar um DataFrame de exemplo\n",
    "df = pd.DataFrame({\n",
    "    'float_col': [1.1, 2.2, 3.3],\n",
    "    'int_col': [1, 2, 3]\n",
    "})\n",
    "\n",
    "# Converter explicitamente\n",
    "df['float_col'] = df['float_col'].astype('float32')\n",
    "df['int_col'] = df['int_col'].astype('int32')\n",
    "\n",
    "print(\"Tipos originais:\")\n",
    "print(df.dtypes)\n",
    "\n",
    "# Salvar CSV\n",
    "df.to_csv('test.csv', index=False)\n",
    "\n",
    "# Ler CSV de volta\n",
    "df_read = pd.read_csv('test.csv')\n",
    "\n",
    "print(\"\\nTipos após ler o CSV:\")\n",
    "print(df_read.dtypes)\n",
    "\n",
    "# Agora vamos tentar salvar especificando o formato dos números\n",
    "df.to_csv('test.csv', index=False, float_format='%.2f')\n",
    "df_read = pd.read_csv('test.csv', dtype={'float_col': 'float32', 'int_col': 'int32'})\n",
    "\n",
    "print(\"\\nTipos após ler o CSV com dtype especificado:\")\n",
    "print(df_read.dtypes)"
   ]
  }
 ],
 "metadata": {
  "kernelspec": {
   "display_name": "allgpu_env",
   "language": "python",
   "name": "python3"
  },
  "language_info": {
   "codemirror_mode": {
    "name": "ipython",
    "version": 3
   },
   "file_extension": ".py",
   "mimetype": "text/x-python",
   "name": "python",
   "nbconvert_exporter": "python",
   "pygments_lexer": "ipython3",
   "version": "3.12.2"
  }
 },
 "nbformat": 4,
 "nbformat_minor": 2
}
