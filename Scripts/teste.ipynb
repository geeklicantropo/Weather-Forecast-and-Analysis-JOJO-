{
 "cells": [
  {
   "cell_type": "code",
   "execution_count": null,
   "metadata": {},
   "outputs": [],
   "source": [
    "import pandas as pd\n",
    "\n",
    "pd.set_option(\"display.max_rows\", None)\n",
    "pd.set_option(\"display.max_columns\", None)\n",
    "pd.set_option('display.max_colwidth', None)\n"
   ]
  },
  {
   "cell_type": "code",
   "execution_count": 50,
   "metadata": {},
   "outputs": [],
   "source": [
    "df = pd.read_csv(\"csvs_treated/INMET_CO_DF_A001_BRASILIA_07-05-2000_A_31-12-2000.CSV\")\n",
    "df_proc = pd.read_csv(\"csvs_processed/INMET_CO_DF_A001_BRASILIA_07-05-2000_A_31-12-2000.CSV\")"
   ]
  },
  {
   "cell_type": "code",
   "execution_count": 51,
   "metadata": {},
   "outputs": [
    {
     "data": {
      "text/plain": [
       "(5736, 20)"
      ]
     },
     "execution_count": 51,
     "metadata": {},
     "output_type": "execute_result"
    }
   ],
   "source": [
    "df.shape"
   ]
  },
  {
   "cell_type": "code",
   "execution_count": 52,
   "metadata": {},
   "outputs": [
    {
     "data": {
      "text/plain": [
       "(5736, 29)"
      ]
     },
     "execution_count": 52,
     "metadata": {},
     "output_type": "execute_result"
    }
   ],
   "source": [
    "df_proc.shape"
   ]
  },
  {
   "cell_type": "code",
   "execution_count": null,
   "metadata": {},
   "outputs": [],
   "source": [
    "df.isnull().sum()"
   ]
  },
  {
   "cell_type": "code",
   "execution_count": 47,
   "metadata": {},
   "outputs": [
    {
     "data": {
      "text/plain": [
       "DATA YYYY-MM-DD                                        object\n",
       "HORA UTC                                                int64\n",
       "PRECIPITAÇÃO TOTAL HORÁRIO MM                         float64\n",
       "PRESSÃO ATMOSFÉRICA AO NÍVEL DA ESTAÇÃO HORÁRIA MB    float64\n",
       "PRESSÃO ATMOSFÉRICA MAX. NA HORA ANT. AUT MB          float64\n",
       "PRESSÃO ATMOSFÉRICA MIN. NA HORA ANT. AUT MB          float64\n",
       "RADIAÇÃO GLOBAL KJ/M²                                 float64\n",
       "TEMPERATURA DO AR - BULBO SECO HORÁRIA °C             float64\n",
       "TEMPERATURA DO PONTO DE ORVALHO °C                    float64\n",
       "TEMPERATURA MÁXIMA NA HORA ANT. (AUT) °C              float64\n",
       "TEMPERATURA MÍNIMA NA HORA ANT. (AUT) °C              float64\n",
       "UMIDADE RELATIVA DO AR - HORÁRIA %                    float64\n",
       "VENTO DIREÇÃO HORÁRIA (GR) ° (GR)                     float64\n",
       "VENTO VELOCIDADE HORÁRIA (M/S)                        float64\n",
       "REGIÃO                                                 object\n",
       "UF                                                     object\n",
       "ESTAÇÃO                                                object\n",
       "CÓDIGO (WMO)                                           object\n",
       "DATA DE FUNDAÇÃO                                      float64\n",
       "YEAR                                                    int64\n",
       "dtype: object"
      ]
     },
     "execution_count": 47,
     "metadata": {},
     "output_type": "execute_result"
    }
   ],
   "source": [
    "df.dtypes"
   ]
  },
  {
   "cell_type": "code",
   "execution_count": null,
   "metadata": {},
   "outputs": [],
   "source": [
    "import pandas as pd\n",
    "import numpy as np\n",
    "\n",
    "# Criar um DataFrame de exemplo\n",
    "df = pd.DataFrame({\n",
    "    'float_col': [1.1, 2.2, 3.3],\n",
    "    'int_col': [1, 2, 3]\n",
    "})\n",
    "\n",
    "# Converter explicitamente\n",
    "df['float_col'] = df['float_col'].astype('float32')\n",
    "df['int_col'] = df['int_col'].astype('int32')\n",
    "\n",
    "print(\"Tipos originais:\")\n",
    "print(df.dtypes)\n",
    "\n",
    "# Salvar CSV\n",
    "df.to_csv('test.csv', index=False)\n",
    "\n",
    "# Ler CSV de volta\n",
    "df_read = pd.read_csv('test.csv')\n",
    "\n",
    "print(\"\\nTipos após ler o CSV:\")\n",
    "print(df_read.dtypes)\n",
    "\n",
    "# Agora vamos tentar salvar especificando o formato dos números\n",
    "df.to_csv('test.csv', index=False, float_format='%.2f')\n",
    "df_read = pd.read_csv('test.csv', dtype={'float_col': 'float32', 'int_col': 'int32'})\n",
    "\n",
    "print(\"\\nTipos após ler o CSV com dtype especificado:\")\n",
    "print(df_read.dtypes)"
   ]
  }
 ],
 "metadata": {
  "kernelspec": {
   "display_name": "Python 3",
   "language": "python",
   "name": "python3"
  },
  "language_info": {
   "codemirror_mode": {
    "name": "ipython",
    "version": 3
   },
   "file_extension": ".py",
   "mimetype": "text/x-python",
   "name": "python",
   "nbconvert_exporter": "python",
   "pygments_lexer": "ipython3",
   "version": "3.12.3"
  }
 },
 "nbformat": 4,
 "nbformat_minor": 2
}
